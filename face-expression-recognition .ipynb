{
 "cells": [
  {
   "cell_type": "markdown",
   "metadata": {
    "_cell_guid": "b1076dfc-b9ad-4769-8c92-a6c4dae69d19",
    "_uuid": "8f2839f25d086af736a60e9eeb907d3b93b6e0e5",
    "collapsed": true
   },
   "source": [
    "## Face expression Recognition\n",
    "* import os and get the current working directory"
   ]
  },
  {
   "cell_type": "code",
   "execution_count": 1,
   "metadata": {
    "_cell_guid": "79c7e3d0-c299-4dcb-8224-4455121ee9b0",
    "_uuid": "d629ff2d2480ee46fbb7e2d37f6b5fab8052498a"
   },
   "outputs": [
    {
     "data": {
      "text/plain": [
       "'C:\\\\Users\\\\saite\\\\Desktop\\\\Face-Expression-Detection'"
      ]
     },
     "execution_count": 1,
     "metadata": {},
     "output_type": "execute_result"
    }
   ],
   "source": [
    "import os\n",
    "os.getcwd()"
   ]
  },
  {
   "cell_type": "markdown",
   "metadata": {},
   "source": [
    "* Let's assign the dataset path to the basepath"
   ]
  },
  {
   "cell_type": "code",
   "execution_count": 4,
   "metadata": {},
   "outputs": [],
   "source": [
    "base_path = \"C:\\\\Users\\\\saite\\\\Desktop\\\\Face-Expression-Detection\\\\Images\\\\images\"\n"
   ]
  },
  {
   "cell_type": "markdown",
   "metadata": {},
   "source": [
    "* Get the number of images of each class in train dataset"
   ]
  },
  {
   "cell_type": "code",
   "execution_count": 5,
   "metadata": {},
   "outputs": [
    {
     "name": "stdout",
     "output_type": "stream",
     "text": [
      "3988 angry images\n",
      "436 disgust images\n",
      "4103 fear images\n",
      "7164 happy images\n",
      "4982 neutral images\n",
      "4938 sad images\n",
      "3205 surprise images\n"
     ]
    }
   ],
   "source": [
    "# count number of train images for each expression\n",
    "\n",
    "for expression in os.listdir(base_path + \"\\\\train\"):\n",
    "    print(str(len(os.listdir(base_path + \"\\\\train\\\\\" + expression))) + \" \" + expression + \" images\")"
   ]
  },
  {
   "cell_type": "markdown",
   "metadata": {},
   "source": [
    "* we have good amount of images for each class except for the class disgust. \n",
    "* pic_size for the images is (48,48)"
   ]
  },
  {
   "cell_type": "code",
   "execution_count": 7,
   "metadata": {},
   "outputs": [],
   "source": [
    "pic_size =48"
   ]
  },
  {
   "cell_type": "markdown",
   "metadata": {},
   "source": [
    "#### Train Validation Generator\n",
    "* The color of the images are gray\n",
    "* consider the batch size 128\n",
    "* Shuffle the data for each generator"
   ]
  },
  {
   "cell_type": "code",
   "execution_count": 9,
   "metadata": {},
   "outputs": [
    {
     "name": "stderr",
     "output_type": "stream",
     "text": [
      "Using TensorFlow backend.\n"
     ]
    },
    {
     "name": "stdout",
     "output_type": "stream",
     "text": [
      "Found 28816 images belonging to 7 classes.\n",
      "Found 7066 images belonging to 7 classes.\n"
     ]
    }
   ],
   "source": [
    "from keras.preprocessing.image import ImageDataGenerator\n",
    "\n",
    "datagen_train = ImageDataGenerator()\n",
    "datagen_validation = ImageDataGenerator()\n",
    "\n",
    "train_generator = datagen_train.flow_from_directory(base_path + \"\\\\train\",\n",
    "                                                    target_size=(pic_size,pic_size),\n",
    "                                                    color_mode=\"grayscale\",\n",
    "                                                    batch_size=128,\n",
    "                                                    class_mode='categorical',\n",
    "                                                    shuffle=True)\n",
    "\n",
    "validation_generator = datagen_validation.flow_from_directory(base_path + \"\\\\validation\",\n",
    "                                                    target_size=(pic_size,pic_size),\n",
    "                                                    color_mode=\"grayscale\",\n",
    "                                                    batch_size=128,\n",
    "                                                    class_mode='categorical',\n",
    "                                                    shuffle=True)\n"
   ]
  },
  {
   "cell_type": "code",
   "execution_count": 11,
   "metadata": {},
   "outputs": [
    {
     "data": {
      "text/plain": [
       "<keras.preprocessing.image.DirectoryIterator at 0x1c5fe57c198>"
      ]
     },
     "execution_count": 11,
     "metadata": {},
     "output_type": "execute_result"
    }
   ],
   "source": [
    "validation_generator"
   ]
  },
  {
   "cell_type": "markdown",
   "metadata": {},
   "source": [
    "## Model Building\n",
    "* import libraries\n",
    "* build architecture\n",
    "* compile the model\n",
    "* train on the train data"
   ]
  },
  {
   "cell_type": "code",
   "execution_count": 7,
   "metadata": {},
   "outputs": [],
   "source": [
    "from keras import layers\n",
    "from keras.layers import Input, Dense, Activation, ZeroPadding2D, BatchNormalization, Flatten, Conv2D\n",
    "from keras.layers import AveragePooling2D, MaxPooling2D, Dropout, GlobalMaxPooling2D, GlobalAveragePooling2D\n",
    "from keras.models import Model\n",
    "from keras.optimizers import Adam\n",
    "from keras.preprocessing import image\n",
    "from keras.utils import layer_utils\n",
    "from keras.utils.data_utils import get_file\n",
    "from keras.applications.imagenet_utils import preprocess_input\n",
    "import pydot\n",
    "from IPython.display import SVG\n",
    "from keras.utils.vis_utils import model_to_dot\n",
    "from keras.utils import plot_model\n",
    "import tensorflow as tf\n",
    "\n",
    "import keras.backend as K\n",
    "K.set_image_data_format('channels_last')\n",
    "import matplotlib.pyplot as plt\n",
    "from matplotlib.pyplot import imshow\n",
    "\n",
    "%matplotlib inline"
   ]
  },
  {
   "cell_type": "code",
   "execution_count": 104,
   "metadata": {},
   "outputs": [],
   "source": [
    "input_shape = (48,48,1)\n",
    "X_input = Input(input_shape)\n",
    "\n",
    "\n",
    "# CONV -> BN -> RELU Block applied to X\n",
    "X = Conv2D(64, (3, 3), strides = (1, 1),padding='same', name = 'conv0')(X_input)\n",
    "X = BatchNormalization(axis = 3, name = 'bn0')(X)\n",
    "X = Activation('relu')(X)\n",
    "\n",
    "# MAXPOOL\n",
    "X = MaxPooling2D((2, 2), name='max_pool0')(X)\n",
    "X = Dropout(0.25)(X)\n",
    "\n",
    "\n",
    "# CONV -> BN -> RELU Block applied to X\n",
    "X = Conv2D(256, (5, 5) , strides = (1, 1),padding='same', name = 'conv1')(X)\n",
    "X = BatchNormalization(axis = 3, name = 'bn1')(X)\n",
    "X = Activation('relu')(X)\n",
    "\n",
    "# MAXPOOL\n",
    "X = MaxPooling2D((2, 2), name='max_pool1')(X)\n",
    "X = Dropout(0.25)(X)\n",
    "\n",
    "\n",
    "# CONV -> BN -> RELU Block applied to X\n",
    "X = Conv2D(512, (5, 5), strides = (1, 1),padding='same', name = 'conv2')(X)\n",
    "X = BatchNormalization(axis = 3, name = 'bn2')(X)\n",
    "X = Activation('relu')(X)\n",
    "\n",
    "# MAXPOOL\n",
    "X = MaxPooling2D((2, 2), name='max_pool2')(X)\n",
    "X = Dropout(0.25)(X)\n",
    "\n",
    "# CONV -> BN -> RELU Block applied to X\n",
    "X = Conv2D(512, (3, 3), strides = (1, 1),padding='same', name = 'conv3')(X)\n",
    "X = BatchNormalization(axis = 3, name = 'bn3')(X)\n",
    "X = Activation('relu')(X)\n",
    "\n",
    "# MAXPOOL\n",
    "X = MaxPooling2D((2, 2), name='max_pool3')(X)\n",
    "X = Dropout(0.25)(X)\n",
    "\n",
    "\n",
    "\n",
    "\n",
    "# FLATTEN X (means convert it to a vector) + FULLYCONNECTED\n",
    "X = Flatten()(X)\n",
    "X = Dense(256, name='fc')(X)\n",
    "X = BatchNormalization(name = 'bn4')(X)\n",
    "X = Activation('relu')(X)\n",
    "X = Dropout(0.25)(X)\n",
    "\n",
    "X = Dense(512, name='fc2')(X)\n",
    "X = BatchNormalization(name = 'bn5')(X)\n",
    "X = Activation('relu')(X)\n",
    "X = Dropout(0.25)(X)\n",
    "\n",
    "X = Dense(7, activation='softmax', name='fc3')(X)\n",
    "\n",
    "# Create model. This creates your Keras model instance, you'll use this instance to train/test the model.\n",
    "model = Model(inputs = X_input, outputs = X)"
   ]
  },
  {
   "cell_type": "code",
   "execution_count": 106,
   "metadata": {},
   "outputs": [],
   "source": [
    "model.compile(optimizer=Adam(lr = 0.0001), loss='categorical_crossentropy', metrics=['accuracy'])\n"
   ]
  },
  {
   "cell_type": "code",
   "execution_count": 107,
   "metadata": {},
   "outputs": [
    {
     "name": "stdout",
     "output_type": "stream",
     "text": [
      "Epoch 1/50\n",
      "225/225 [==============================] - 20s 88ms/step - loss: 1.9837 - accuracy: 0.2490 - val_loss: 1.6888 - val_accuracy: 0.3426\n",
      "Epoch 2/50\n",
      "225/225 [==============================] - 19s 86ms/step - loss: 1.8038 - accuracy: 0.3082 - val_loss: 1.6201 - val_accuracy: 0.3754\n",
      "Epoch 3/50\n",
      "225/225 [==============================] - 20s 90ms/step - loss: 1.6933 - accuracy: 0.3532 - val_loss: 1.5545 - val_accuracy: 0.4092\n",
      "Epoch 4/50\n",
      "225/225 [==============================] - 20s 88ms/step - loss: 1.6119 - accuracy: 0.3833 - val_loss: 1.4922 - val_accuracy: 0.4251\n",
      "Epoch 5/50\n",
      "225/225 [==============================] - 20s 87ms/step - loss: 1.5446 - accuracy: 0.4081 - val_loss: 1.5686 - val_accuracy: 0.4173\n",
      "Epoch 6/50\n",
      "225/225 [==============================] - 21s 91ms/step - loss: 1.4882 - accuracy: 0.4278 - val_loss: 1.4231 - val_accuracy: 0.4482\n",
      "Epoch 7/50\n",
      "225/225 [==============================] - 20s 87ms/step - loss: 1.4260 - accuracy: 0.4516 - val_loss: 1.3754 - val_accuracy: 0.4741\n",
      "Epoch 8/50\n",
      "225/225 [==============================] - 19s 86ms/step - loss: 1.3763 - accuracy: 0.4726 - val_loss: 1.2862 - val_accuracy: 0.5080\n",
      "Epoch 9/50\n",
      "225/225 [==============================] - 21s 93ms/step - loss: 1.3327 - accuracy: 0.4903 - val_loss: 1.3429 - val_accuracy: 0.5020\n",
      "Epoch 10/50\n",
      "225/225 [==============================] - 20s 89ms/step - loss: 1.3017 - accuracy: 0.5036 - val_loss: 1.2441 - val_accuracy: 0.5325\n",
      "Epoch 11/50\n",
      "225/225 [==============================] - 20s 87ms/step - loss: 1.2682 - accuracy: 0.5188 - val_loss: 1.2063 - val_accuracy: 0.5445\n",
      "Epoch 12/50\n",
      "225/225 [==============================] - 22s 97ms/step - loss: 1.2388 - accuracy: 0.5303 - val_loss: 1.2122 - val_accuracy: 0.5466\n",
      "Epoch 13/50\n",
      "225/225 [==============================] - 20s 88ms/step - loss: 1.2076 - accuracy: 0.5385 - val_loss: 1.1603 - val_accuracy: 0.5686\n",
      "Epoch 14/50\n",
      "225/225 [==============================] - 20s 88ms/step - loss: 1.1775 - accuracy: 0.5531 - val_loss: 1.1583 - val_accuracy: 0.5675\n",
      "Epoch 15/50\n",
      "225/225 [==============================] - 20s 89ms/step - loss: 1.1499 - accuracy: 0.5647 - val_loss: 1.1514 - val_accuracy: 0.5679\n",
      "Epoch 16/50\n",
      "225/225 [==============================] - 19s 87ms/step - loss: 1.1301 - accuracy: 0.5707 - val_loss: 1.1317 - val_accuracy: 0.5814\n",
      "Epoch 17/50\n",
      "225/225 [==============================] - 20s 88ms/step - loss: 1.1028 - accuracy: 0.5827 - val_loss: 1.1669 - val_accuracy: 0.5592\n",
      "Epoch 18/50\n",
      "225/225 [==============================] - 21s 92ms/step - loss: 1.0787 - accuracy: 0.5915 - val_loss: 1.1158 - val_accuracy: 0.5822\n",
      "Epoch 19/50\n",
      "225/225 [==============================] - 19s 87ms/step - loss: 1.0576 - accuracy: 0.5963 - val_loss: 1.1551 - val_accuracy: 0.5805\n",
      "Epoch 20/50\n",
      "225/225 [==============================] - 19s 86ms/step - loss: 1.0368 - accuracy: 0.6053 - val_loss: 1.1120 - val_accuracy: 0.5849\n",
      "Epoch 21/50\n",
      "225/225 [==============================] - 20s 91ms/step - loss: 1.0131 - accuracy: 0.6179 - val_loss: 1.0904 - val_accuracy: 0.5920\n",
      "Epoch 22/50\n",
      "225/225 [==============================] - 20s 87ms/step - loss: 0.9977 - accuracy: 0.6231 - val_loss: 1.1646 - val_accuracy: 0.5828\n",
      "Epoch 23/50\n",
      "225/225 [==============================] - 20s 87ms/step - loss: 0.9630 - accuracy: 0.6369 - val_loss: 1.1115 - val_accuracy: 0.5993\n",
      "Epoch 24/50\n",
      "225/225 [==============================] - 20s 91ms/step - loss: 0.9435 - accuracy: 0.6461 - val_loss: 1.1569 - val_accuracy: 0.5864\n",
      "Epoch 25/50\n",
      "225/225 [==============================] - 20s 87ms/step - loss: 0.9299 - accuracy: 0.6491 - val_loss: 1.0722 - val_accuracy: 0.6016\n",
      "Epoch 26/50\n",
      "225/225 [==============================] - 20s 88ms/step - loss: 0.9003 - accuracy: 0.6582 - val_loss: 1.1660 - val_accuracy: 0.5759\n",
      "Epoch 27/50\n",
      "225/225 [==============================] - 20s 91ms/step - loss: 0.8858 - accuracy: 0.6679 - val_loss: 1.0459 - val_accuracy: 0.6217\n",
      "Epoch 28/50\n",
      "225/225 [==============================] - 21s 92ms/step - loss: 0.8631 - accuracy: 0.6757 - val_loss: 1.0725 - val_accuracy: 0.6192\n",
      "Epoch 29/50\n",
      "225/225 [==============================] - 20s 90ms/step - loss: 0.8388 - accuracy: 0.6836 - val_loss: 1.2314 - val_accuracy: 0.5734\n",
      "Epoch 30/50\n",
      "225/225 [==============================] - 20s 89ms/step - loss: 0.8182 - accuracy: 0.6925 - val_loss: 1.0850 - val_accuracy: 0.6190\n",
      "Epoch 31/50\n",
      "225/225 [==============================] - 20s 89ms/step - loss: 0.7967 - accuracy: 0.6994 - val_loss: 1.0451 - val_accuracy: 0.6294\n",
      "Epoch 32/50\n",
      "225/225 [==============================] - 20s 91ms/step - loss: 0.7683 - accuracy: 0.7141 - val_loss: 1.1017 - val_accuracy: 0.6082\n",
      "Epoch 33/50\n",
      "225/225 [==============================] - 20s 88ms/step - loss: 0.7445 - accuracy: 0.7215 - val_loss: 1.0802 - val_accuracy: 0.6270\n",
      "Epoch 34/50\n",
      "225/225 [==============================] - 20s 88ms/step - loss: 0.7297 - accuracy: 0.7253 - val_loss: 1.0753 - val_accuracy: 0.6274\n",
      "Epoch 35/50\n",
      "225/225 [==============================] - 20s 88ms/step - loss: 0.7006 - accuracy: 0.7382 - val_loss: 1.0819 - val_accuracy: 0.6318\n",
      "Epoch 36/50\n",
      "225/225 [==============================] - 20s 88ms/step - loss: 0.6834 - accuracy: 0.7451 - val_loss: 1.0468 - val_accuracy: 0.6368\n",
      "Epoch 37/50\n",
      "225/225 [==============================] - 20s 88ms/step - loss: 0.6706 - accuracy: 0.7505 - val_loss: 1.1121 - val_accuracy: 0.6300\n",
      "Epoch 38/50\n",
      "225/225 [==============================] - 19s 86ms/step - loss: 0.6468 - accuracy: 0.7574 - val_loss: 1.0729 - val_accuracy: 0.6412\n",
      "Epoch 39/50\n",
      "225/225 [==============================] - 20s 89ms/step - loss: 0.6210 - accuracy: 0.7676 - val_loss: 1.1134 - val_accuracy: 0.6253\n",
      "Epoch 40/50\n",
      "225/225 [==============================] - 19s 87ms/step - loss: 0.5995 - accuracy: 0.7753 - val_loss: 1.1715 - val_accuracy: 0.6125\n",
      "Epoch 41/50\n",
      "225/225 [==============================] - 20s 87ms/step - loss: 0.5759 - accuracy: 0.7843 - val_loss: 1.1249 - val_accuracy: 0.6376\n",
      "Epoch 42/50\n",
      "225/225 [==============================] - 20s 91ms/step - loss: 0.5654 - accuracy: 0.7908 - val_loss: 1.1716 - val_accuracy: 0.6250\n",
      "Epoch 43/50\n",
      "225/225 [==============================] - 21s 93ms/step - loss: 0.5381 - accuracy: 0.7986 - val_loss: 1.1448 - val_accuracy: 0.6330\n",
      "Epoch 44/50\n",
      "225/225 [==============================] - 20s 89ms/step - loss: 0.5280 - accuracy: 0.8018 - val_loss: 1.2415 - val_accuracy: 0.6348\n",
      "Epoch 45/50\n",
      "225/225 [==============================] - 20s 91ms/step - loss: 0.5151 - accuracy: 0.8092 - val_loss: 1.3615 - val_accuracy: 0.6040\n",
      "Epoch 46/50\n",
      "225/225 [==============================] - 20s 88ms/step - loss: 0.4936 - accuracy: 0.8159 - val_loss: 1.3206 - val_accuracy: 0.6186\n",
      "Epoch 47/50\n",
      "225/225 [==============================] - 20s 88ms/step - loss: 0.4756 - accuracy: 0.8246 - val_loss: 1.2438 - val_accuracy: 0.6287\n",
      "Epoch 48/50\n",
      "225/225 [==============================] - 20s 90ms/step - loss: 0.4686 - accuracy: 0.8287 - val_loss: 1.2741 - val_accuracy: 0.6344\n",
      "Epoch 49/50\n",
      "225/225 [==============================] - 20s 90ms/step - loss: 0.4528 - accuracy: 0.8308 - val_loss: 1.2154 - val_accuracy: 0.6358\n",
      "Epoch 50/50\n",
      "225/225 [==============================] - 20s 88ms/step - loss: 0.4378 - accuracy: 0.8387 - val_loss: 1.2630 - val_accuracy: 0.6430\n",
      "CPU times: user 12min 52s, sys: 3min 14s, total: 16min 7s\n",
      "Wall time: 16min 47s\n"
     ]
    }
   ],
   "source": [
    "%%time\n",
    "\n",
    "\n",
    "\n",
    "history = model.fit_generator(generator=train_generator,\n",
    "                                steps_per_epoch=train_generator.n//train_generator.batch_size,\n",
    "                                epochs=50,\n",
    "                                validation_data = validation_generator,\n",
    "                                validation_steps = validation_generator.n//validation_generator.batch_size,\n",
    "                                )"
   ]
  },
  {
   "cell_type": "markdown",
   "metadata": {},
   "source": [
    "## Accuracy and Loss Curves"
   ]
  },
  {
   "cell_type": "code",
   "execution_count": 113,
   "metadata": {},
   "outputs": [
    {
     "data": {
      "image/png": "[encoded data removed]",
      "text/plain": [
       "<Figure size 432x288 with 1 Axes>"
      ]
     },
     "metadata": {
      "needs_background": "light"
     },
     "output_type": "display_data"
    },
    {
     "data": {
      "image/png": "[encoded data removed]",
      "text/plain": [
       "<Figure size 432x288 with 1 Axes>"
      ]
     },
     "metadata": {
      "needs_background": "light"
     },
     "output_type": "display_data"
    }
   ],
   "source": [
    "plt.ylabel('Loss', fontsize=10)\n",
    "plt.plot(history.history['loss'], label='Training-Loss')\n",
    "plt.plot(history.history['val_loss'], label='Val-Loss')\n",
    "plt.legend(loc='lower right')\n",
    "plt.show()\n",
    "plt.ylabel('Accuracy', fontsize=10)\n",
    "plt.plot(history.history['accuracy'], label='Training Accuracy')\n",
    "plt.plot(history.history['val_accuracy'], label='Validation Accuracy')\n",
    "plt.legend(loc='lower right')\n",
    "plt.show()"
   ]
  },
  {
   "cell_type": "code",
   "execution_count": 111,
   "metadata": {},
   "outputs": [
    {
     "data": {
      "text/plain": [
       "[1.2632040977478027, 0.6430795192718506]"
      ]
     },
     "execution_count": 111,
     "metadata": {},
     "output_type": "execute_result"
    }
   ],
   "source": [
    "model.evaluate_generator(generator =validation_generator)"
   ]
  },
  {
   "cell_type": "code",
   "execution_count": null,
   "metadata": {},
   "outputs": [],
   "source": []
  }
 ],
 "metadata": {
  "kernelspec": {
   "display_name": "Python 3",
   "language": "python",
   "name": "python3"
  },
  "language_info": {
   "codemirror_mode": {
    "name": "ipython",
    "version": 3
   },
   "file_extension": ".py",
   "mimetype": "text/x-python",
   "name": "python",
   "nbconvert_exporter": "python",
   "pygments_lexer": "ipython3",
   "version": "3.7.3"
  }
 },
 "nbformat": 4,
 "nbformat_minor": 4
}
